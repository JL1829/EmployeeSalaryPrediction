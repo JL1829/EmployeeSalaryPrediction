{
 "cells": [
  {
   "cell_type": "code",
   "execution_count": 1,
   "metadata": {},
   "outputs": [],
   "source": [
    "import numpy as np\n",
    "import pandas as pd\n",
    "from sklearn.ensemble import RandomForestClassifier\n",
    "from sklearn.ensemble import RandomForestRegressor\n",
    "from bayes_opt import BayesianOptimization\n",
    "from sklearn.model_selection import cross_val_score\n",
    "\n",
    "import warnings\n",
    "warnings.simplefilter('ignore')"
   ]
  },
  {
   "cell_type": "code",
   "execution_count": 2,
   "metadata": {},
   "outputs": [
    {
     "name": "stdout",
     "output_type": "stream",
     "text": [
      "<class 'pandas.core.frame.DataFrame'>\n",
      "Int64Index: 999995 entries, 0 to 999994\n",
      "Data columns (total 15 columns):\n",
      " #   Column               Non-Null Count   Dtype  \n",
      "---  ------               --------------   -----  \n",
      " 0   index                999995 non-null  int64  \n",
      " 1   jobId                999995 non-null  object \n",
      " 2   companyId            999995 non-null  int64  \n",
      " 3   jobType              999995 non-null  int64  \n",
      " 4   degree               999995 non-null  int64  \n",
      " 5   major                999995 non-null  int64  \n",
      " 6   industry             999995 non-null  int64  \n",
      " 7   yearsExperience      999995 non-null  int64  \n",
      " 8   milesFromMetropolis  999995 non-null  int64  \n",
      " 9   salary               999995 non-null  int64  \n",
      " 10  group_mean           999995 non-null  float64\n",
      " 11  group_max            999995 non-null  int64  \n",
      " 12  group_min            999995 non-null  int64  \n",
      " 13  group_std            999995 non-null  float64\n",
      " 14  group_median         999995 non-null  float64\n",
      "dtypes: float64(3), int64(11), object(1)\n",
      "memory usage: 122.1+ MB\n"
     ]
    }
   ],
   "source": [
    "# X = pd.read_csv('data/processed/processed.csv')\n",
    "# y = pd.read_csv('data/raw/train_salaries.csv')\n",
    "train_df = pd.merge(left=pd.read_csv('data/processed/processed.csv'), \n",
    "                    right=pd.read_csv('data/raw/train_salaries.csv'), how='inner')\n",
    "train_df.info()\n",
    "# del X, y"
   ]
  },
  {
   "cell_type": "code",
   "execution_count": 3,
   "metadata": {},
   "outputs": [],
   "source": [
    "# we just take 10% sample to do a fast check\n",
    "train_df = train_df.sample(frac=0.1)"
   ]
  },
  {
   "cell_type": "code",
   "execution_count": 4,
   "metadata": {},
   "outputs": [
    {
     "name": "stdout",
     "output_type": "stream",
     "text": [
      "<class 'pandas.core.frame.DataFrame'>\n",
      "Int64Index: 100000 entries, 123198 to 880721\n",
      "Data columns (total 15 columns):\n",
      " #   Column               Non-Null Count   Dtype  \n",
      "---  ------               --------------   -----  \n",
      " 0   index                100000 non-null  int64  \n",
      " 1   jobId                100000 non-null  object \n",
      " 2   companyId            100000 non-null  int64  \n",
      " 3   jobType              100000 non-null  int64  \n",
      " 4   degree               100000 non-null  int64  \n",
      " 5   major                100000 non-null  int64  \n",
      " 6   industry             100000 non-null  int64  \n",
      " 7   yearsExperience      100000 non-null  int64  \n",
      " 8   milesFromMetropolis  100000 non-null  int64  \n",
      " 9   salary               100000 non-null  int64  \n",
      " 10  group_mean           100000 non-null  float64\n",
      " 11  group_max            100000 non-null  int64  \n",
      " 12  group_min            100000 non-null  int64  \n",
      " 13  group_std            100000 non-null  float64\n",
      " 14  group_median         100000 non-null  float64\n",
      "dtypes: float64(3), int64(11), object(1)\n",
      "memory usage: 12.2+ MB\n"
     ]
    }
   ],
   "source": [
    "train_df.info()"
   ]
  },
  {
   "cell_type": "code",
   "execution_count": 5,
   "metadata": {},
   "outputs": [],
   "source": [
    "X = train_df.drop(['index', 'jobId', 'salary'], axis=1)"
   ]
  },
  {
   "cell_type": "code",
   "execution_count": 6,
   "metadata": {},
   "outputs": [],
   "source": [
    "y = train_df['salary']"
   ]
  },
  {
   "cell_type": "code",
   "execution_count": 7,
   "metadata": {},
   "outputs": [
    {
     "name": "stdout",
     "output_type": "stream",
     "text": [
      "<class 'pandas.core.frame.DataFrame'>\n",
      "Int64Index: 100000 entries, 123198 to 880721\n",
      "Data columns (total 12 columns):\n",
      " #   Column               Non-Null Count   Dtype  \n",
      "---  ------               --------------   -----  \n",
      " 0   companyId            100000 non-null  int64  \n",
      " 1   jobType              100000 non-null  int64  \n",
      " 2   degree               100000 non-null  int64  \n",
      " 3   major                100000 non-null  int64  \n",
      " 4   industry             100000 non-null  int64  \n",
      " 5   yearsExperience      100000 non-null  int64  \n",
      " 6   milesFromMetropolis  100000 non-null  int64  \n",
      " 7   group_mean           100000 non-null  float64\n",
      " 8   group_max            100000 non-null  int64  \n",
      " 9   group_min            100000 non-null  int64  \n",
      " 10  group_std            100000 non-null  float64\n",
      " 11  group_median         100000 non-null  float64\n",
      "dtypes: float64(3), int64(9)\n",
      "memory usage: 9.9 MB\n"
     ]
    }
   ],
   "source": [
    "X.info()"
   ]
  },
  {
   "cell_type": "code",
   "execution_count": 8,
   "metadata": {},
   "outputs": [
    {
     "data": {
      "text/plain": [
       "-330.6383806447608"
      ]
     },
     "execution_count": 8,
     "metadata": {},
     "output_type": "execute_result"
    }
   ],
   "source": [
    "rfe = RandomForestRegressor()\n",
    "np.mean(cross_val_score(rfe, X, y, cv=5, scoring='neg_mean_squared_error', n_jobs=-1))"
   ]
  },
  {
   "cell_type": "code",
   "execution_count": 9,
   "metadata": {},
   "outputs": [],
   "source": [
    "def rfe_cv(n_estimators, min_samples_split, max_features, max_depth):\n",
    "    val = np.mean(cross_val_score(RandomForestRegressor(n_estimators=int(n_estimators), \n",
    "                                                 min_samples_split=int(min_samples_split),\n",
    "                                                 max_features=min(max_features, 0.999),\n",
    "                                                 max_depth=int(max_depth), random_state=42),\n",
    "                         X, y, scoring='neg_mean_squared_error', cv=5, n_jobs=-1))\n",
    "    \n",
    "    return val"
   ]
  },
  {
   "cell_type": "code",
   "execution_count": 10,
   "metadata": {},
   "outputs": [],
   "source": [
    "# define Bayesian Optimazation\n",
    "rfe_bo = BayesianOptimization( \n",
    "             rfe_cv,\n",
    "             {'n_estimators': (10, 250),\n",
    "             'min_samples_split': (2, 25),\n",
    "             'max_features': (0.1, 0.999),\n",
    "             'max_depth': (5, 30)})"
   ]
  },
  {
   "cell_type": "code",
   "execution_count": 11,
   "metadata": {},
   "outputs": [
    {
     "name": "stdout",
     "output_type": "stream",
     "text": [
      "|   iter    |  target   | max_depth | max_fe... | min_sa... | n_esti... |\n",
      "-------------------------------------------------------------------------\n",
      "| \u001b[0m 1       \u001b[0m | \u001b[0m-320.5   \u001b[0m | \u001b[0m 19.06   \u001b[0m | \u001b[0m 0.4986  \u001b[0m | \u001b[0m 14.94   \u001b[0m | \u001b[0m 161.8   \u001b[0m |\n",
      "| \u001b[0m 2       \u001b[0m | \u001b[0m-334.4   \u001b[0m | \u001b[0m 29.57   \u001b[0m | \u001b[0m 0.2382  \u001b[0m | \u001b[0m 13.73   \u001b[0m | \u001b[0m 217.7   \u001b[0m |\n",
      "| \u001b[0m 3       \u001b[0m | \u001b[0m-323.8   \u001b[0m | \u001b[0m 18.24   \u001b[0m | \u001b[0m 0.3669  \u001b[0m | \u001b[0m 4.258   \u001b[0m | \u001b[0m 194.6   \u001b[0m |\n",
      "| \u001b[0m 4       \u001b[0m | \u001b[0m-371.0   \u001b[0m | \u001b[0m 29.22   \u001b[0m | \u001b[0m 0.1388  \u001b[0m | \u001b[0m 4.448   \u001b[0m | \u001b[0m 93.41   \u001b[0m |\n",
      "| \u001b[95m 5       \u001b[0m | \u001b[95m-317.9   \u001b[0m | \u001b[95m 13.27   \u001b[0m | \u001b[95m 0.5016  \u001b[0m | \u001b[95m 19.71   \u001b[0m | \u001b[95m 167.6   \u001b[0m |\n",
      "| \u001b[0m 6       \u001b[0m | \u001b[0m-407.0   \u001b[0m | \u001b[0m 5.0     \u001b[0m | \u001b[0m 0.999   \u001b[0m | \u001b[0m 25.0    \u001b[0m | \u001b[0m 10.0    \u001b[0m |\n",
      "| \u001b[0m 7       \u001b[0m | \u001b[0m-402.9   \u001b[0m | \u001b[0m 5.0     \u001b[0m | \u001b[0m 0.999   \u001b[0m | \u001b[0m 2.0     \u001b[0m | \u001b[0m 250.0   \u001b[0m |\n",
      "| \u001b[0m 8       \u001b[0m | \u001b[0m-339.4   \u001b[0m | \u001b[0m 14.56   \u001b[0m | \u001b[0m 0.184   \u001b[0m | \u001b[0m 19.33   \u001b[0m | \u001b[0m 167.7   \u001b[0m |\n",
      "| \u001b[0m 9       \u001b[0m | \u001b[0m-318.0   \u001b[0m | \u001b[0m 11.82   \u001b[0m | \u001b[0m 0.7492  \u001b[0m | \u001b[0m 20.99   \u001b[0m | \u001b[0m 165.0   \u001b[0m |\n",
      "| \u001b[0m 10      \u001b[0m | \u001b[0m-322.7   \u001b[0m | \u001b[0m 9.06    \u001b[0m | \u001b[0m 0.999   \u001b[0m | \u001b[0m 20.12   \u001b[0m | \u001b[0m 168.7   \u001b[0m |\n",
      "| \u001b[0m 11      \u001b[0m | \u001b[0m-319.7   \u001b[0m | \u001b[0m 10.52   \u001b[0m | \u001b[0m 0.999   \u001b[0m | \u001b[0m 16.01   \u001b[0m | \u001b[0m 165.3   \u001b[0m |\n",
      "| \u001b[0m 12      \u001b[0m | \u001b[0m-319.5   \u001b[0m | \u001b[0m 13.58   \u001b[0m | \u001b[0m 0.999   \u001b[0m | \u001b[0m 15.23   \u001b[0m | \u001b[0m 159.1   \u001b[0m |\n",
      "| \u001b[0m 13      \u001b[0m | \u001b[0m-322.3   \u001b[0m | \u001b[0m 15.26   \u001b[0m | \u001b[0m 0.999   \u001b[0m | \u001b[0m 9.714   \u001b[0m | \u001b[0m 161.7   \u001b[0m |\n",
      "| \u001b[0m 14      \u001b[0m | \u001b[0m-324.3   \u001b[0m | \u001b[0m 20.56   \u001b[0m | \u001b[0m 0.2971  \u001b[0m | \u001b[0m 12.29   \u001b[0m | \u001b[0m 156.3   \u001b[0m |\n",
      "| \u001b[0m 15      \u001b[0m | \u001b[0m-384.6   \u001b[0m | \u001b[0m 13.42   \u001b[0m | \u001b[0m 0.1     \u001b[0m | \u001b[0m 9.882   \u001b[0m | \u001b[0m 154.6   \u001b[0m |\n",
      "| \u001b[0m 16      \u001b[0m | \u001b[0m-325.4   \u001b[0m | \u001b[0m 21.79   \u001b[0m | \u001b[0m 0.999   \u001b[0m | \u001b[0m 9.441   \u001b[0m | \u001b[0m 162.0   \u001b[0m |\n",
      "| \u001b[0m 17      \u001b[0m | \u001b[0m-319.7   \u001b[0m | \u001b[0m 18.93   \u001b[0m | \u001b[0m 0.559   \u001b[0m | \u001b[0m 19.02   \u001b[0m | \u001b[0m 156.7   \u001b[0m |\n",
      "| \u001b[0m 18      \u001b[0m | \u001b[0m-321.6   \u001b[0m | \u001b[0m 25.21   \u001b[0m | \u001b[0m 0.7422  \u001b[0m | \u001b[0m 17.96   \u001b[0m | \u001b[0m 160.0   \u001b[0m |\n",
      "| \u001b[0m 19      \u001b[0m | \u001b[0m-322.7   \u001b[0m | \u001b[0m 24.8    \u001b[0m | \u001b[0m 0.999   \u001b[0m | \u001b[0m 17.23   \u001b[0m | \u001b[0m 153.4   \u001b[0m |\n",
      "| \u001b[0m 20      \u001b[0m | \u001b[0m-334.6   \u001b[0m | \u001b[0m 28.67   \u001b[0m | \u001b[0m 0.1869  \u001b[0m | \u001b[0m 12.55   \u001b[0m | \u001b[0m 158.8   \u001b[0m |\n",
      "| \u001b[0m 21      \u001b[0m | \u001b[0m-319.5   \u001b[0m | \u001b[0m 22.64   \u001b[0m | \u001b[0m 0.6205  \u001b[0m | \u001b[0m 24.03   \u001b[0m | \u001b[0m 154.1   \u001b[0m |\n",
      "| \u001b[0m 22      \u001b[0m | \u001b[0m-321.4   \u001b[0m | \u001b[0m 28.8    \u001b[0m | \u001b[0m 0.999   \u001b[0m | \u001b[0m 23.1    \u001b[0m | \u001b[0m 156.3   \u001b[0m |\n",
      "| \u001b[0m 23      \u001b[0m | \u001b[0m-320.2   \u001b[0m | \u001b[0m 22.76   \u001b[0m | \u001b[0m 0.375   \u001b[0m | \u001b[0m 23.83   \u001b[0m | \u001b[0m 160.6   \u001b[0m |\n",
      "| \u001b[0m 24      \u001b[0m | \u001b[0m-318.4   \u001b[0m | \u001b[0m 15.68   \u001b[0m | \u001b[0m 0.6262  \u001b[0m | \u001b[0m 24.11   \u001b[0m | \u001b[0m 156.9   \u001b[0m |\n",
      "| \u001b[0m 25      \u001b[0m | \u001b[0m-323.7   \u001b[0m | \u001b[0m 16.94   \u001b[0m | \u001b[0m 0.2797  \u001b[0m | \u001b[0m 23.22   \u001b[0m | \u001b[0m 149.4   \u001b[0m |\n",
      "| \u001b[0m 26      \u001b[0m | \u001b[0m-337.3   \u001b[0m | \u001b[0m 8.909   \u001b[0m | \u001b[0m 0.4382  \u001b[0m | \u001b[0m 21.55   \u001b[0m | \u001b[0m 155.5   \u001b[0m |\n",
      "| \u001b[0m 27      \u001b[0m | \u001b[0m-319.2   \u001b[0m | \u001b[0m 27.17   \u001b[0m | \u001b[0m 0.4858  \u001b[0m | \u001b[0m 24.49   \u001b[0m | \u001b[0m 148.8   \u001b[0m |\n",
      "| \u001b[0m 28      \u001b[0m | \u001b[0m-322.1   \u001b[0m | \u001b[0m 23.07   \u001b[0m | \u001b[0m 0.999   \u001b[0m | \u001b[0m 19.88   \u001b[0m | \u001b[0m 146.2   \u001b[0m |\n",
      "| \u001b[0m 29      \u001b[0m | \u001b[0m-320.3   \u001b[0m | \u001b[0m 29.61   \u001b[0m | \u001b[0m 0.5779  \u001b[0m | \u001b[0m 18.54   \u001b[0m | \u001b[0m 145.9   \u001b[0m |\n",
      "| \u001b[0m 30      \u001b[0m | \u001b[0m-320.3   \u001b[0m | \u001b[0m 27.69   \u001b[0m | \u001b[0m 0.3619  \u001b[0m | \u001b[0m 23.82   \u001b[0m | \u001b[0m 141.2   \u001b[0m |\n",
      "=========================================================================\n",
      "CPU times: user 16.7 s, sys: 2.68 s, total: 19.4 s\n",
      "Wall time: 16min 13s\n"
     ]
    }
   ],
   "source": [
    "%%time\n",
    "# start the optimazation\n",
    "rfe_bo.maximize()"
   ]
  },
  {
   "cell_type": "code",
   "execution_count": 13,
   "metadata": {},
   "outputs": [
    {
     "data": {
      "text/plain": [
       "{'target': -317.9425770507151,\n",
       " 'params': {'max_depth': 13.268505574426682,\n",
       "  'max_features': 0.5016082654057604,\n",
       "  'min_samples_split': 19.70639834666332,\n",
       "  'n_estimators': 167.58817625981817}}"
      ]
     },
     "execution_count": 13,
     "metadata": {},
     "output_type": "execute_result"
    }
   ],
   "source": [
    "rfe_bo.max"
   ]
  },
  {
   "cell_type": "code",
   "execution_count": 14,
   "metadata": {},
   "outputs": [
    {
     "data": {
      "text/plain": [
       "-317.69608161310316"
      ]
     },
     "execution_count": 14,
     "metadata": {},
     "output_type": "execute_result"
    }
   ],
   "source": [
    "rfe_optimized = RandomForestRegressor(n_estimators=166, max_depth=13, max_features=0.5, min_samples_split=20)\n",
    "np.mean(cross_val_score(rfe_optimized, X, y, scoring='neg_mean_squared_error', cv=5, n_jobs=-1))"
   ]
  },
  {
   "cell_type": "markdown",
   "metadata": {},
   "source": [
    "### Try Gradient Boosting Machine"
   ]
  },
  {
   "cell_type": "code",
   "execution_count": 15,
   "metadata": {},
   "outputs": [
    {
     "name": "stdout",
     "output_type": "stream",
     "text": [
      "CPU times: user 35.9 ms, sys: 22.8 ms, total: 58.7 ms\n",
      "Wall time: 12.4 s\n"
     ]
    },
    {
     "data": {
      "text/plain": [
       "-324.75907470080375"
      ]
     },
     "execution_count": 15,
     "metadata": {},
     "output_type": "execute_result"
    }
   ],
   "source": [
    "%%time\n",
    "from sklearn.ensemble import GradientBoostingRegressor\n",
    "GBR = GradientBoostingRegressor()\n",
    "np.mean(cross_val_score(GBR, X, y, scoring='neg_mean_squared_error', cv=5, n_jobs=-1))"
   ]
  },
  {
   "cell_type": "code",
   "execution_count": 16,
   "metadata": {},
   "outputs": [],
   "source": [
    "def GBR_cv(learning_rate, n_estimators, min_samples_split, max_features, max_depth):\n",
    "    val = np.mean(cross_val_score(GradientBoostingRegressor(learning_rate=learning_rate, \n",
    "                                                            n_estimators=int(n_estimators), \n",
    "                                                            min_samples_split=int(min_samples_split),\n",
    "                                                            max_features=min(max_features, 0.999),\n",
    "                                                            max_depth=int(max_depth), random_state=42),\n",
    "                         X, y, scoring='neg_mean_squared_error', cv=5, n_jobs=-1))\n",
    "    \n",
    "    return val"
   ]
  },
  {
   "cell_type": "code",
   "execution_count": 17,
   "metadata": {},
   "outputs": [],
   "source": [
    "# define Bayesian Optimazation\n",
    "GBR_bo = BayesianOptimization( \n",
    "             GBR_cv,\n",
    "             {'learning_rate': (0.01, 0.1),\n",
    "              'n_estimators': (10, 250),\n",
    "              'min_samples_split': (2, 25),\n",
    "              'max_features': (0.1, 0.999),\n",
    "              'max_depth': (5, 30)})"
   ]
  },
  {
   "cell_type": "code",
   "execution_count": 19,
   "metadata": {},
   "outputs": [
    {
     "name": "stdout",
     "output_type": "stream",
     "text": [
      "|   iter    |  target   | learni... | max_depth | max_fe... | min_sa... | n_esti... |\n",
      "-------------------------------------------------------------------------------------\n",
      "| \u001b[0m 1       \u001b[0m | \u001b[0m-317.6   \u001b[0m | \u001b[0m 0.08718 \u001b[0m | \u001b[0m 8.855   \u001b[0m | \u001b[0m 0.9865  \u001b[0m | \u001b[0m 17.37   \u001b[0m | \u001b[0m 109.7   \u001b[0m |\n",
      "| \u001b[0m 2       \u001b[0m | \u001b[0m-319.2   \u001b[0m | \u001b[0m 0.03279 \u001b[0m | \u001b[0m 10.98   \u001b[0m | \u001b[0m 0.9272  \u001b[0m | \u001b[0m 10.04   \u001b[0m | \u001b[0m 118.9   \u001b[0m |\n",
      "| \u001b[0m 3       \u001b[0m | \u001b[0m-357.8   \u001b[0m | \u001b[0m 0.06619 \u001b[0m | \u001b[0m 24.85   \u001b[0m | \u001b[0m 0.7723  \u001b[0m | \u001b[0m 7.659   \u001b[0m | \u001b[0m 106.5   \u001b[0m |\n",
      "| \u001b[0m 4       \u001b[0m | \u001b[0m-337.6   \u001b[0m | \u001b[0m 0.06297 \u001b[0m | \u001b[0m 5.708   \u001b[0m | \u001b[0m 0.156   \u001b[0m | \u001b[0m 4.063   \u001b[0m | \u001b[0m 167.2   \u001b[0m |\n",
      "| \u001b[0m 5       \u001b[0m | \u001b[0m-341.0   \u001b[0m | \u001b[0m 0.07739 \u001b[0m | \u001b[0m 14.83   \u001b[0m | \u001b[0m 0.6366  \u001b[0m | \u001b[0m 18.6    \u001b[0m | \u001b[0m 90.23   \u001b[0m |\n",
      "| \u001b[0m 6       \u001b[0m | \u001b[0m-319.2   \u001b[0m | \u001b[0m 0.08453 \u001b[0m | \u001b[0m 9.583   \u001b[0m | \u001b[0m 0.4377  \u001b[0m | \u001b[0m 17.01   \u001b[0m | \u001b[0m 109.5   \u001b[0m |\n",
      "| \u001b[0m 7       \u001b[0m | \u001b[0m-346.1   \u001b[0m | \u001b[0m 0.06651 \u001b[0m | \u001b[0m 5.0     \u001b[0m | \u001b[0m 0.1     \u001b[0m | \u001b[0m 24.39   \u001b[0m | \u001b[0m 122.8   \u001b[0m |\n",
      "| \u001b[95m 8       \u001b[0m | \u001b[95m-316.1   \u001b[0m | \u001b[95m 0.1     \u001b[0m | \u001b[95m 5.0     \u001b[0m | \u001b[95m 0.999   \u001b[0m | \u001b[95m 10.36   \u001b[0m | \u001b[95m 112.2   \u001b[0m |\n",
      "| \u001b[95m 9       \u001b[0m | \u001b[95m-315.9   \u001b[0m | \u001b[95m 0.1     \u001b[0m | \u001b[95m 5.0     \u001b[0m | \u001b[95m 0.999   \u001b[0m | \u001b[95m 2.0     \u001b[0m | \u001b[95m 123.3   \u001b[0m |\n",
      "| \u001b[0m 10      \u001b[0m | \u001b[0m-406.6   \u001b[0m | \u001b[0m 0.01    \u001b[0m | \u001b[0m 13.44   \u001b[0m | \u001b[0m 0.999   \u001b[0m | \u001b[0m 2.0     \u001b[0m | \u001b[0m 134.9   \u001b[0m |\n",
      "| \u001b[0m 11      \u001b[0m | \u001b[0m-340.0   \u001b[0m | \u001b[0m 0.04119 \u001b[0m | \u001b[0m 5.061   \u001b[0m | \u001b[0m 0.2285  \u001b[0m | \u001b[0m 2.007   \u001b[0m | \u001b[0m 101.5   \u001b[0m |\n",
      "| \u001b[0m 12      \u001b[0m | \u001b[0m-487.0   \u001b[0m | \u001b[0m 0.01    \u001b[0m | \u001b[0m 5.0     \u001b[0m | \u001b[0m 0.999   \u001b[0m | \u001b[0m 2.0     \u001b[0m | \u001b[0m 115.3   \u001b[0m |\n",
      "| \u001b[0m 13      \u001b[0m | \u001b[0m-319.9   \u001b[0m | \u001b[0m 0.08116 \u001b[0m | \u001b[0m 8.185   \u001b[0m | \u001b[0m 0.1687  \u001b[0m | \u001b[0m 12.58   \u001b[0m | \u001b[0m 115.3   \u001b[0m |\n",
      "| \u001b[0m 14      \u001b[0m | \u001b[0m-419.0   \u001b[0m | \u001b[0m 0.01521 \u001b[0m | \u001b[0m 5.867   \u001b[0m | \u001b[0m 0.4793  \u001b[0m | \u001b[0m 13.0    \u001b[0m | \u001b[0m 107.2   \u001b[0m |\n",
      "| \u001b[0m 15      \u001b[0m | \u001b[0m-322.6   \u001b[0m | \u001b[0m 0.1     \u001b[0m | \u001b[0m 9.791   \u001b[0m | \u001b[0m 0.999   \u001b[0m | \u001b[0m 16.5    \u001b[0m | \u001b[0m 113.6   \u001b[0m |\n",
      "| \u001b[0m 16      \u001b[0m | \u001b[0m-332.0   \u001b[0m | \u001b[0m 0.02474 \u001b[0m | \u001b[0m 13.57   \u001b[0m | \u001b[0m 0.759   \u001b[0m | \u001b[0m 11.37   \u001b[0m | \u001b[0m 114.1   \u001b[0m |\n",
      "| \u001b[0m 17      \u001b[0m | \u001b[0m-334.0   \u001b[0m | \u001b[0m 0.1     \u001b[0m | \u001b[0m 11.1    \u001b[0m | \u001b[0m 0.999   \u001b[0m | \u001b[0m 20.91   \u001b[0m | \u001b[0m 111.0   \u001b[0m |\n",
      "| \u001b[0m 18      \u001b[0m | \u001b[0m-335.7   \u001b[0m | \u001b[0m 0.1     \u001b[0m | \u001b[0m 11.54   \u001b[0m | \u001b[0m 0.999   \u001b[0m | \u001b[0m 14.86   \u001b[0m | \u001b[0m 118.9   \u001b[0m |\n",
      "| \u001b[0m 19      \u001b[0m | \u001b[0m-331.0   \u001b[0m | \u001b[0m 0.08792 \u001b[0m | \u001b[0m 6.507   \u001b[0m | \u001b[0m 0.1126  \u001b[0m | \u001b[0m 4.607   \u001b[0m | \u001b[0m 126.3   \u001b[0m |\n",
      "| \u001b[0m 20      \u001b[0m | \u001b[0m-350.7   \u001b[0m | \u001b[0m 0.05894 \u001b[0m | \u001b[0m 5.416   \u001b[0m | \u001b[0m 0.1356  \u001b[0m | \u001b[0m 11.83   \u001b[0m | \u001b[0m 119.3   \u001b[0m |\n",
      "| \u001b[0m 21      \u001b[0m | \u001b[0m-316.1   \u001b[0m | \u001b[0m 0.1     \u001b[0m | \u001b[0m 5.0     \u001b[0m | \u001b[0m 0.999   \u001b[0m | \u001b[0m 16.22   \u001b[0m | \u001b[0m 114.2   \u001b[0m |\n",
      "| \u001b[0m 22      \u001b[0m | \u001b[0m-484.8   \u001b[0m | \u001b[0m 0.01039 \u001b[0m | \u001b[0m 5.165   \u001b[0m | \u001b[0m 0.905   \u001b[0m | \u001b[0m 21.5    \u001b[0m | \u001b[0m 112.7   \u001b[0m |\n",
      "| \u001b[95m 23      \u001b[0m | \u001b[95m-315.8   \u001b[0m | \u001b[95m 0.052   \u001b[0m | \u001b[95m 8.579   \u001b[0m | \u001b[95m 0.3261  \u001b[0m | \u001b[95m 9.113   \u001b[0m | \u001b[95m 113.7   \u001b[0m |\n",
      "| \u001b[0m 24      \u001b[0m | \u001b[0m-343.2   \u001b[0m | \u001b[0m 0.05402 \u001b[0m | \u001b[0m 14.82   \u001b[0m | \u001b[0m 0.1509  \u001b[0m | \u001b[0m 17.44   \u001b[0m | \u001b[0m 112.2   \u001b[0m |\n",
      "| \u001b[0m 25      \u001b[0m | \u001b[0m-344.6   \u001b[0m | \u001b[0m 0.07019 \u001b[0m | \u001b[0m 14.87   \u001b[0m | \u001b[0m 0.6142  \u001b[0m | \u001b[0m 7.097   \u001b[0m | \u001b[0m 118.9   \u001b[0m |\n",
      "| \u001b[0m 26      \u001b[0m | \u001b[0m-324.5   \u001b[0m | \u001b[0m 0.1     \u001b[0m | \u001b[0m 9.395   \u001b[0m | \u001b[0m 0.999   \u001b[0m | \u001b[0m 6.592   \u001b[0m | \u001b[0m 122.5   \u001b[0m |\n",
      "| \u001b[0m 27      \u001b[0m | \u001b[0m-421.0   \u001b[0m | \u001b[0m 0.01    \u001b[0m | \u001b[0m 11.84   \u001b[0m | \u001b[0m 0.999   \u001b[0m | \u001b[0m 10.81   \u001b[0m | \u001b[0m 123.7   \u001b[0m |\n",
      "| \u001b[0m 28      \u001b[0m | \u001b[0m-658.5   \u001b[0m | \u001b[0m 0.01    \u001b[0m | \u001b[0m 5.0     \u001b[0m | \u001b[0m 0.1     \u001b[0m | \u001b[0m 13.07   \u001b[0m | \u001b[0m 114.0   \u001b[0m |\n",
      "| \u001b[0m 29      \u001b[0m | \u001b[0m-320.5   \u001b[0m | \u001b[0m 0.09688 \u001b[0m | \u001b[0m 8.416   \u001b[0m | \u001b[0m 0.2414  \u001b[0m | \u001b[0m 10.82   \u001b[0m | \u001b[0m 115.2   \u001b[0m |\n",
      "| \u001b[0m 30      \u001b[0m | \u001b[0m-320.9   \u001b[0m | \u001b[0m 0.09282 \u001b[0m | \u001b[0m 9.538   \u001b[0m | \u001b[0m 0.835   \u001b[0m | \u001b[0m 16.93   \u001b[0m | \u001b[0m 111.4   \u001b[0m |\n",
      "=====================================================================================\n",
      "CPU times: user 15.6 s, sys: 2.45 s, total: 18 s\n",
      "Wall time: 13min 59s\n"
     ]
    }
   ],
   "source": [
    "%%time\n",
    "\n",
    "GBR_bo.maximize()"
   ]
  },
  {
   "cell_type": "code",
   "execution_count": 21,
   "metadata": {},
   "outputs": [
    {
     "data": {
      "text/plain": [
       "-316.2296206209812"
      ]
     },
     "execution_count": 21,
     "metadata": {},
     "output_type": "execute_result"
    }
   ],
   "source": [
    "GBM_Optimized = GradientBoostingRegressor(learning_rate=0.052, n_estimators=114, max_depth=8, max_features=0.3261, min_samples_split=9)\n",
    "np.mean(cross_val_score(GBM_Optimized, X, y, scoring='neg_mean_squared_error', cv=5, n_jobs=-1))"
   ]
  },
  {
   "cell_type": "markdown",
   "metadata": {},
   "source": [
    "## Use full dataset to validate"
   ]
  },
  {
   "cell_type": "code",
   "execution_count": 22,
   "metadata": {},
   "outputs": [
    {
     "data": {
      "text/plain": [
       "-311.8021653654332"
      ]
     },
     "execution_count": 22,
     "metadata": {},
     "output_type": "execute_result"
    }
   ],
   "source": [
    "train_df = pd.merge(left=pd.read_csv('data/processed/processed.csv'), \n",
    "                    right=pd.read_csv('data/raw/train_salaries.csv'), how='inner')\n",
    "X = train_df.drop(['index', 'jobId', 'salary'], axis=1)\n",
    "y = train_df['salary']\n",
    "\n",
    "np.mean(cross_val_score(GBM_Optimized, X, y, scoring='neg_mean_squared_error', cv=5, n_jobs=-1))"
   ]
  },
  {
   "cell_type": "code",
   "execution_count": 23,
   "metadata": {},
   "outputs": [
    {
     "name": "stdout",
     "output_type": "stream",
     "text": [
      "CPU times: user 167 ms, sys: 198 ms, total: 365 ms\n",
      "Wall time: 8min 33s\n"
     ]
    },
    {
     "data": {
      "text/plain": [
       "-308.4384637200592"
      ]
     },
     "execution_count": 23,
     "metadata": {},
     "output_type": "execute_result"
    }
   ],
   "source": [
    "%%time\n",
    "origin_GBM = GradientBoostingRegressor(n_estimators=100, max_depth=7)\n",
    "np.mean(cross_val_score(origin_GBM, X, y, scoring='neg_mean_squared_error', cv=5, n_jobs=-1))"
   ]
  },
  {
   "cell_type": "markdown",
   "metadata": {},
   "source": [
    "### Run the Bayesian Optimization again for Gradient Boosting Machine on Full Dataset"
   ]
  },
  {
   "cell_type": "code",
   "execution_count": 24,
   "metadata": {},
   "outputs": [
    {
     "name": "stdout",
     "output_type": "stream",
     "text": [
      "|   iter    |  target   | learni... | max_depth | max_fe... | min_sa... | n_esti... |\n",
      "-------------------------------------------------------------------------------------\n",
      "| \u001b[0m 31      \u001b[0m | \u001b[0m-748.8   \u001b[0m | \u001b[0m 0.01674 \u001b[0m | \u001b[0m 9.945   \u001b[0m | \u001b[0m 0.2231  \u001b[0m | \u001b[0m 15.25   \u001b[0m | \u001b[0m 35.22   \u001b[0m |\n",
      "| \u001b[0m 32      \u001b[0m | \u001b[0m-353.5   \u001b[0m | \u001b[0m 0.04138 \u001b[0m | \u001b[0m 19.53   \u001b[0m | \u001b[0m 0.1813  \u001b[0m | \u001b[0m 9.367   \u001b[0m | \u001b[0m 56.44   \u001b[0m |\n",
      "| \u001b[95m 33      \u001b[0m | \u001b[95m-312.3   \u001b[0m | \u001b[95m 0.04981 \u001b[0m | \u001b[95m 12.59   \u001b[0m | \u001b[95m 0.3711  \u001b[0m | \u001b[95m 13.84   \u001b[0m | \u001b[95m 74.76   \u001b[0m |\n",
      "| \u001b[95m 34      \u001b[0m | \u001b[95m-310.5   \u001b[0m | \u001b[95m 0.06982 \u001b[0m | \u001b[95m 11.01   \u001b[0m | \u001b[95m 0.7724  \u001b[0m | \u001b[95m 14.58   \u001b[0m | \u001b[95m 104.0   \u001b[0m |\n",
      "| \u001b[0m 35      \u001b[0m | \u001b[0m-365.3   \u001b[0m | \u001b[0m 0.04132 \u001b[0m | \u001b[0m 23.65   \u001b[0m | \u001b[0m 0.9186  \u001b[0m | \u001b[0m 7.623   \u001b[0m | \u001b[0m 68.36   \u001b[0m |\n",
      "| \u001b[95m 36      \u001b[0m | \u001b[95m-308.4   \u001b[0m | \u001b[95m 0.0614  \u001b[0m | \u001b[95m 10.12   \u001b[0m | \u001b[95m 0.5852  \u001b[0m | \u001b[95m 11.96   \u001b[0m | \u001b[95m 116.8   \u001b[0m |\n",
      "| \u001b[0m 37      \u001b[0m | \u001b[0m-310.2   \u001b[0m | \u001b[0m 0.09521 \u001b[0m | \u001b[0m 10.99   \u001b[0m | \u001b[0m 0.8693  \u001b[0m | \u001b[0m 9.646   \u001b[0m | \u001b[0m 114.0   \u001b[0m |\n",
      "| \u001b[0m 38      \u001b[0m | \u001b[0m-320.8   \u001b[0m | \u001b[0m 0.0732  \u001b[0m | \u001b[0m 10.1    \u001b[0m | \u001b[0m 0.1593  \u001b[0m | \u001b[0m 14.23   \u001b[0m | \u001b[0m 115.5   \u001b[0m |\n",
      "| \u001b[0m 39      \u001b[0m | \u001b[0m-311.4   \u001b[0m | \u001b[0m 0.02925 \u001b[0m | \u001b[0m 11.07   \u001b[0m | \u001b[0m 0.6659  \u001b[0m | \u001b[0m 13.05   \u001b[0m | \u001b[0m 113.8   \u001b[0m |\n",
      "| \u001b[0m 40      \u001b[0m | \u001b[0m-308.6   \u001b[0m | \u001b[0m 0.07851 \u001b[0m | \u001b[0m 7.774   \u001b[0m | \u001b[0m 0.9478  \u001b[0m | \u001b[0m 10.06   \u001b[0m | \u001b[0m 111.1   \u001b[0m |\n",
      "| \u001b[0m 41      \u001b[0m | \u001b[0m-313.8   \u001b[0m | \u001b[0m 0.06772 \u001b[0m | \u001b[0m 5.655   \u001b[0m | \u001b[0m 0.991   \u001b[0m | \u001b[0m 8.116   \u001b[0m | \u001b[0m 110.6   \u001b[0m |\n",
      "| \u001b[0m 42      \u001b[0m | \u001b[0m-310.1   \u001b[0m | \u001b[0m 0.07582 \u001b[0m | \u001b[0m 7.322   \u001b[0m | \u001b[0m 0.4244  \u001b[0m | \u001b[0m 17.25   \u001b[0m | \u001b[0m 115.9   \u001b[0m |\n",
      "| \u001b[0m 43      \u001b[0m | \u001b[0m-332.5   \u001b[0m | \u001b[0m 0.01817 \u001b[0m | \u001b[0m 8.222   \u001b[0m | \u001b[0m 0.5675  \u001b[0m | \u001b[0m 2.934   \u001b[0m | \u001b[0m 122.5   \u001b[0m |\n",
      "| \u001b[0m 44      \u001b[0m | \u001b[0m-313.5   \u001b[0m | \u001b[0m 0.1     \u001b[0m | \u001b[0m 11.56   \u001b[0m | \u001b[0m 0.999   \u001b[0m | \u001b[0m 17.43   \u001b[0m | \u001b[0m 105.9   \u001b[0m |\n",
      "| \u001b[0m 45      \u001b[0m | \u001b[0m-318.9   \u001b[0m | \u001b[0m 0.06556 \u001b[0m | \u001b[0m 13.37   \u001b[0m | \u001b[0m 0.9967  \u001b[0m | \u001b[0m 14.0    \u001b[0m | \u001b[0m 106.3   \u001b[0m |\n",
      "| \u001b[0m 46      \u001b[0m | \u001b[0m-326.7   \u001b[0m | \u001b[0m 0.07215 \u001b[0m | \u001b[0m 13.91   \u001b[0m | \u001b[0m 0.1     \u001b[0m | \u001b[0m 16.32   \u001b[0m | \u001b[0m 103.5   \u001b[0m |\n",
      "| \u001b[0m 47      \u001b[0m | \u001b[0m-317.3   \u001b[0m | \u001b[0m 0.09013 \u001b[0m | \u001b[0m 12.27   \u001b[0m | \u001b[0m 0.4548  \u001b[0m | \u001b[0m 13.55   \u001b[0m | \u001b[0m 110.0   \u001b[0m |\n",
      "| \u001b[0m 48      \u001b[0m | \u001b[0m-321.6   \u001b[0m | \u001b[0m 0.1     \u001b[0m | \u001b[0m 10.44   \u001b[0m | \u001b[0m 0.1     \u001b[0m | \u001b[0m 7.223   \u001b[0m | \u001b[0m 116.8   \u001b[0m |\n",
      "| \u001b[0m 49      \u001b[0m | \u001b[0m-309.7   \u001b[0m | \u001b[0m 0.05743 \u001b[0m | \u001b[0m 11.68   \u001b[0m | \u001b[0m 0.7977  \u001b[0m | \u001b[0m 9.245   \u001b[0m | \u001b[0m 109.2   \u001b[0m |\n",
      "| \u001b[0m 50      \u001b[0m | \u001b[0m-312.6   \u001b[0m | \u001b[0m 0.054   \u001b[0m | \u001b[0m 12.02   \u001b[0m | \u001b[0m 0.8915  \u001b[0m | \u001b[0m 6.941   \u001b[0m | \u001b[0m 111.7   \u001b[0m |\n",
      "| \u001b[0m 51      \u001b[0m | \u001b[0m-319.5   \u001b[0m | \u001b[0m 0.04247 \u001b[0m | \u001b[0m 14.69   \u001b[0m | \u001b[0m 0.825   \u001b[0m | \u001b[0m 10.19   \u001b[0m | \u001b[0m 110.3   \u001b[0m |\n",
      "| \u001b[0m 52      \u001b[0m | \u001b[0m-342.3   \u001b[0m | \u001b[0m 0.1     \u001b[0m | \u001b[0m 14.19   \u001b[0m | \u001b[0m 0.1     \u001b[0m | \u001b[0m 6.544   \u001b[0m | \u001b[0m 108.5   \u001b[0m |\n",
      "| \u001b[0m 53      \u001b[0m | \u001b[0m-471.7   \u001b[0m | \u001b[0m 0.01    \u001b[0m | \u001b[0m 10.09   \u001b[0m | \u001b[0m 0.999   \u001b[0m | \u001b[0m 17.89   \u001b[0m | \u001b[0m 102.3   \u001b[0m |\n",
      "| \u001b[0m 54      \u001b[0m | \u001b[0m-312.6   \u001b[0m | \u001b[0m 0.05877 \u001b[0m | \u001b[0m 12.14   \u001b[0m | \u001b[0m 0.3432  \u001b[0m | \u001b[0m 11.25   \u001b[0m | \u001b[0m 103.7   \u001b[0m |\n",
      "| \u001b[0m 55      \u001b[0m | \u001b[0m-341.0   \u001b[0m | \u001b[0m 0.1     \u001b[0m | \u001b[0m 15.01   \u001b[0m | \u001b[0m 0.999   \u001b[0m | \u001b[0m 12.85   \u001b[0m | \u001b[0m 102.7   \u001b[0m |\n",
      "| \u001b[0m 56      \u001b[0m | \u001b[0m-345.8   \u001b[0m | \u001b[0m 0.01688 \u001b[0m | \u001b[0m 14.84   \u001b[0m | \u001b[0m 0.8916  \u001b[0m | \u001b[0m 17.53   \u001b[0m | \u001b[0m 107.6   \u001b[0m |\n",
      "| \u001b[0m 57      \u001b[0m | \u001b[0m-318.2   \u001b[0m | \u001b[0m 0.03395 \u001b[0m | \u001b[0m 9.099   \u001b[0m | \u001b[0m 0.2381  \u001b[0m | \u001b[0m 6.878   \u001b[0m | \u001b[0m 110.3   \u001b[0m |\n"
     ]
    },
    {
     "ename": "KeyboardInterrupt",
     "evalue": "",
     "output_type": "error",
     "traceback": [
      "\u001b[0;31m---------------------------------------------------------------------------\u001b[0m",
      "\u001b[0;31mKeyError\u001b[0m                                  Traceback (most recent call last)",
      "\u001b[0;32m~/cpuml-venv/lib/python3.7/site-packages/bayes_opt/target_space.py\u001b[0m in \u001b[0;36mprobe\u001b[0;34m(self, params)\u001b[0m\n\u001b[1;32m    190\u001b[0m         \u001b[0;32mtry\u001b[0m\u001b[0;34m:\u001b[0m\u001b[0;34m\u001b[0m\u001b[0;34m\u001b[0m\u001b[0m\n\u001b[0;32m--> 191\u001b[0;31m             \u001b[0mtarget\u001b[0m \u001b[0;34m=\u001b[0m \u001b[0mself\u001b[0m\u001b[0;34m.\u001b[0m\u001b[0m_cache\u001b[0m\u001b[0;34m[\u001b[0m\u001b[0m_hashable\u001b[0m\u001b[0;34m(\u001b[0m\u001b[0mx\u001b[0m\u001b[0;34m)\u001b[0m\u001b[0;34m]\u001b[0m\u001b[0;34m\u001b[0m\u001b[0;34m\u001b[0m\u001b[0m\n\u001b[0m\u001b[1;32m    192\u001b[0m         \u001b[0;32mexcept\u001b[0m \u001b[0mKeyError\u001b[0m\u001b[0;34m:\u001b[0m\u001b[0;34m\u001b[0m\u001b[0;34m\u001b[0m\u001b[0m\n",
      "\u001b[0;31mKeyError\u001b[0m: (0.05133574010520172, 14.17040129689401, 0.3500388576869793, 10.299460343544526, 106.52026465687247)",
      "\nDuring handling of the above exception, another exception occurred:\n",
      "\u001b[0;31mKeyboardInterrupt\u001b[0m                         Traceback (most recent call last)",
      "\u001b[0;32m<timed eval>\u001b[0m in \u001b[0;36m<module>\u001b[0;34m\u001b[0m\n",
      "\u001b[0;32m~/cpuml-venv/lib/python3.7/site-packages/bayes_opt/bayesian_optimization.py\u001b[0m in \u001b[0;36mmaximize\u001b[0;34m(self, init_points, n_iter, acq, kappa, kappa_decay, kappa_decay_delay, xi, **gp_params)\u001b[0m\n\u001b[1;32m    183\u001b[0m                 \u001b[0miteration\u001b[0m \u001b[0;34m+=\u001b[0m \u001b[0;36m1\u001b[0m\u001b[0;34m\u001b[0m\u001b[0;34m\u001b[0m\u001b[0m\n\u001b[1;32m    184\u001b[0m \u001b[0;34m\u001b[0m\u001b[0m\n\u001b[0;32m--> 185\u001b[0;31m             \u001b[0mself\u001b[0m\u001b[0;34m.\u001b[0m\u001b[0mprobe\u001b[0m\u001b[0;34m(\u001b[0m\u001b[0mx_probe\u001b[0m\u001b[0;34m,\u001b[0m \u001b[0mlazy\u001b[0m\u001b[0;34m=\u001b[0m\u001b[0;32mFalse\u001b[0m\u001b[0;34m)\u001b[0m\u001b[0;34m\u001b[0m\u001b[0;34m\u001b[0m\u001b[0m\n\u001b[0m\u001b[1;32m    186\u001b[0m \u001b[0;34m\u001b[0m\u001b[0m\n\u001b[1;32m    187\u001b[0m             \u001b[0;32mif\u001b[0m \u001b[0mself\u001b[0m\u001b[0;34m.\u001b[0m\u001b[0m_bounds_transformer\u001b[0m\u001b[0;34m:\u001b[0m\u001b[0;34m\u001b[0m\u001b[0;34m\u001b[0m\u001b[0m\n",
      "\u001b[0;32m~/cpuml-venv/lib/python3.7/site-packages/bayes_opt/bayesian_optimization.py\u001b[0m in \u001b[0;36mprobe\u001b[0;34m(self, params, lazy)\u001b[0m\n\u001b[1;32m    114\u001b[0m             \u001b[0mself\u001b[0m\u001b[0;34m.\u001b[0m\u001b[0m_queue\u001b[0m\u001b[0;34m.\u001b[0m\u001b[0madd\u001b[0m\u001b[0;34m(\u001b[0m\u001b[0mparams\u001b[0m\u001b[0;34m)\u001b[0m\u001b[0;34m\u001b[0m\u001b[0;34m\u001b[0m\u001b[0m\n\u001b[1;32m    115\u001b[0m         \u001b[0;32melse\u001b[0m\u001b[0;34m:\u001b[0m\u001b[0;34m\u001b[0m\u001b[0;34m\u001b[0m\u001b[0m\n\u001b[0;32m--> 116\u001b[0;31m             \u001b[0mself\u001b[0m\u001b[0;34m.\u001b[0m\u001b[0m_space\u001b[0m\u001b[0;34m.\u001b[0m\u001b[0mprobe\u001b[0m\u001b[0;34m(\u001b[0m\u001b[0mparams\u001b[0m\u001b[0;34m)\u001b[0m\u001b[0;34m\u001b[0m\u001b[0;34m\u001b[0m\u001b[0m\n\u001b[0m\u001b[1;32m    117\u001b[0m             \u001b[0mself\u001b[0m\u001b[0;34m.\u001b[0m\u001b[0mdispatch\u001b[0m\u001b[0;34m(\u001b[0m\u001b[0mEvents\u001b[0m\u001b[0;34m.\u001b[0m\u001b[0mOPTIMIZATION_STEP\u001b[0m\u001b[0;34m)\u001b[0m\u001b[0;34m\u001b[0m\u001b[0;34m\u001b[0m\u001b[0m\n\u001b[1;32m    118\u001b[0m \u001b[0;34m\u001b[0m\u001b[0m\n",
      "\u001b[0;32m~/cpuml-venv/lib/python3.7/site-packages/bayes_opt/target_space.py\u001b[0m in \u001b[0;36mprobe\u001b[0;34m(self, params)\u001b[0m\n\u001b[1;32m    192\u001b[0m         \u001b[0;32mexcept\u001b[0m \u001b[0mKeyError\u001b[0m\u001b[0;34m:\u001b[0m\u001b[0;34m\u001b[0m\u001b[0;34m\u001b[0m\u001b[0m\n\u001b[1;32m    193\u001b[0m             \u001b[0mparams\u001b[0m \u001b[0;34m=\u001b[0m \u001b[0mdict\u001b[0m\u001b[0;34m(\u001b[0m\u001b[0mzip\u001b[0m\u001b[0;34m(\u001b[0m\u001b[0mself\u001b[0m\u001b[0;34m.\u001b[0m\u001b[0m_keys\u001b[0m\u001b[0;34m,\u001b[0m \u001b[0mx\u001b[0m\u001b[0;34m)\u001b[0m\u001b[0;34m)\u001b[0m\u001b[0;34m\u001b[0m\u001b[0;34m\u001b[0m\u001b[0m\n\u001b[0;32m--> 194\u001b[0;31m             \u001b[0mtarget\u001b[0m \u001b[0;34m=\u001b[0m \u001b[0mself\u001b[0m\u001b[0;34m.\u001b[0m\u001b[0mtarget_func\u001b[0m\u001b[0;34m(\u001b[0m\u001b[0;34m**\u001b[0m\u001b[0mparams\u001b[0m\u001b[0;34m)\u001b[0m\u001b[0;34m\u001b[0m\u001b[0;34m\u001b[0m\u001b[0m\n\u001b[0m\u001b[1;32m    195\u001b[0m             \u001b[0mself\u001b[0m\u001b[0;34m.\u001b[0m\u001b[0mregister\u001b[0m\u001b[0;34m(\u001b[0m\u001b[0mx\u001b[0m\u001b[0;34m,\u001b[0m \u001b[0mtarget\u001b[0m\u001b[0;34m)\u001b[0m\u001b[0;34m\u001b[0m\u001b[0;34m\u001b[0m\u001b[0m\n\u001b[1;32m    196\u001b[0m         \u001b[0;32mreturn\u001b[0m \u001b[0mtarget\u001b[0m\u001b[0;34m\u001b[0m\u001b[0;34m\u001b[0m\u001b[0m\n",
      "\u001b[0;32m<ipython-input-16-5c5eb5ca5b2e>\u001b[0m in \u001b[0;36mGBR_cv\u001b[0;34m(learning_rate, n_estimators, min_samples_split, max_features, max_depth)\u001b[0m\n\u001b[1;32m      5\u001b[0m                                                             \u001b[0mmax_features\u001b[0m\u001b[0;34m=\u001b[0m\u001b[0mmin\u001b[0m\u001b[0;34m(\u001b[0m\u001b[0mmax_features\u001b[0m\u001b[0;34m,\u001b[0m \u001b[0;36m0.999\u001b[0m\u001b[0;34m)\u001b[0m\u001b[0;34m,\u001b[0m\u001b[0;34m\u001b[0m\u001b[0;34m\u001b[0m\u001b[0m\n\u001b[1;32m      6\u001b[0m                                                             max_depth=int(max_depth), random_state=42),\n\u001b[0;32m----> 7\u001b[0;31m                          X, y, scoring='neg_mean_squared_error', cv=5, n_jobs=-1))\n\u001b[0m\u001b[1;32m      8\u001b[0m \u001b[0;34m\u001b[0m\u001b[0m\n\u001b[1;32m      9\u001b[0m     \u001b[0;32mreturn\u001b[0m \u001b[0mval\u001b[0m\u001b[0;34m\u001b[0m\u001b[0;34m\u001b[0m\u001b[0m\n",
      "\u001b[0;32m~/cpuml-venv/lib/python3.7/site-packages/sklearn/utils/validation.py\u001b[0m in \u001b[0;36minner_f\u001b[0;34m(*args, **kwargs)\u001b[0m\n\u001b[1;32m     71\u001b[0m                           FutureWarning)\n\u001b[1;32m     72\u001b[0m         \u001b[0mkwargs\u001b[0m\u001b[0;34m.\u001b[0m\u001b[0mupdate\u001b[0m\u001b[0;34m(\u001b[0m\u001b[0;34m{\u001b[0m\u001b[0mk\u001b[0m\u001b[0;34m:\u001b[0m \u001b[0marg\u001b[0m \u001b[0;32mfor\u001b[0m \u001b[0mk\u001b[0m\u001b[0;34m,\u001b[0m \u001b[0marg\u001b[0m \u001b[0;32min\u001b[0m \u001b[0mzip\u001b[0m\u001b[0;34m(\u001b[0m\u001b[0msig\u001b[0m\u001b[0;34m.\u001b[0m\u001b[0mparameters\u001b[0m\u001b[0;34m,\u001b[0m \u001b[0margs\u001b[0m\u001b[0;34m)\u001b[0m\u001b[0;34m}\u001b[0m\u001b[0;34m)\u001b[0m\u001b[0;34m\u001b[0m\u001b[0;34m\u001b[0m\u001b[0m\n\u001b[0;32m---> 73\u001b[0;31m         \u001b[0;32mreturn\u001b[0m \u001b[0mf\u001b[0m\u001b[0;34m(\u001b[0m\u001b[0;34m**\u001b[0m\u001b[0mkwargs\u001b[0m\u001b[0;34m)\u001b[0m\u001b[0;34m\u001b[0m\u001b[0;34m\u001b[0m\u001b[0m\n\u001b[0m\u001b[1;32m     74\u001b[0m     \u001b[0;32mreturn\u001b[0m \u001b[0minner_f\u001b[0m\u001b[0;34m\u001b[0m\u001b[0;34m\u001b[0m\u001b[0m\n\u001b[1;32m     75\u001b[0m \u001b[0;34m\u001b[0m\u001b[0m\n",
      "\u001b[0;32m~/cpuml-venv/lib/python3.7/site-packages/sklearn/model_selection/_validation.py\u001b[0m in \u001b[0;36mcross_val_score\u001b[0;34m(estimator, X, y, groups, scoring, cv, n_jobs, verbose, fit_params, pre_dispatch, error_score)\u001b[0m\n\u001b[1;32m    404\u001b[0m                                 \u001b[0mfit_params\u001b[0m\u001b[0;34m=\u001b[0m\u001b[0mfit_params\u001b[0m\u001b[0;34m,\u001b[0m\u001b[0;34m\u001b[0m\u001b[0;34m\u001b[0m\u001b[0m\n\u001b[1;32m    405\u001b[0m                                 \u001b[0mpre_dispatch\u001b[0m\u001b[0;34m=\u001b[0m\u001b[0mpre_dispatch\u001b[0m\u001b[0;34m,\u001b[0m\u001b[0;34m\u001b[0m\u001b[0;34m\u001b[0m\u001b[0m\n\u001b[0;32m--> 406\u001b[0;31m                                 error_score=error_score)\n\u001b[0m\u001b[1;32m    407\u001b[0m     \u001b[0;32mreturn\u001b[0m \u001b[0mcv_results\u001b[0m\u001b[0;34m[\u001b[0m\u001b[0;34m'test_score'\u001b[0m\u001b[0;34m]\u001b[0m\u001b[0;34m\u001b[0m\u001b[0;34m\u001b[0m\u001b[0m\n\u001b[1;32m    408\u001b[0m \u001b[0;34m\u001b[0m\u001b[0m\n",
      "\u001b[0;32m~/cpuml-venv/lib/python3.7/site-packages/sklearn/utils/validation.py\u001b[0m in \u001b[0;36minner_f\u001b[0;34m(*args, **kwargs)\u001b[0m\n\u001b[1;32m     71\u001b[0m                           FutureWarning)\n\u001b[1;32m     72\u001b[0m         \u001b[0mkwargs\u001b[0m\u001b[0;34m.\u001b[0m\u001b[0mupdate\u001b[0m\u001b[0;34m(\u001b[0m\u001b[0;34m{\u001b[0m\u001b[0mk\u001b[0m\u001b[0;34m:\u001b[0m \u001b[0marg\u001b[0m \u001b[0;32mfor\u001b[0m \u001b[0mk\u001b[0m\u001b[0;34m,\u001b[0m \u001b[0marg\u001b[0m \u001b[0;32min\u001b[0m \u001b[0mzip\u001b[0m\u001b[0;34m(\u001b[0m\u001b[0msig\u001b[0m\u001b[0;34m.\u001b[0m\u001b[0mparameters\u001b[0m\u001b[0;34m,\u001b[0m \u001b[0margs\u001b[0m\u001b[0;34m)\u001b[0m\u001b[0;34m}\u001b[0m\u001b[0;34m)\u001b[0m\u001b[0;34m\u001b[0m\u001b[0;34m\u001b[0m\u001b[0m\n\u001b[0;32m---> 73\u001b[0;31m         \u001b[0;32mreturn\u001b[0m \u001b[0mf\u001b[0m\u001b[0;34m(\u001b[0m\u001b[0;34m**\u001b[0m\u001b[0mkwargs\u001b[0m\u001b[0;34m)\u001b[0m\u001b[0;34m\u001b[0m\u001b[0;34m\u001b[0m\u001b[0m\n\u001b[0m\u001b[1;32m     74\u001b[0m     \u001b[0;32mreturn\u001b[0m \u001b[0minner_f\u001b[0m\u001b[0;34m\u001b[0m\u001b[0;34m\u001b[0m\u001b[0m\n\u001b[1;32m     75\u001b[0m \u001b[0;34m\u001b[0m\u001b[0m\n",
      "\u001b[0;32m~/cpuml-venv/lib/python3.7/site-packages/sklearn/model_selection/_validation.py\u001b[0m in \u001b[0;36mcross_validate\u001b[0;34m(estimator, X, y, groups, scoring, cv, n_jobs, verbose, fit_params, pre_dispatch, return_train_score, return_estimator, error_score)\u001b[0m\n\u001b[1;32m    246\u001b[0m             \u001b[0mreturn_times\u001b[0m\u001b[0;34m=\u001b[0m\u001b[0;32mTrue\u001b[0m\u001b[0;34m,\u001b[0m \u001b[0mreturn_estimator\u001b[0m\u001b[0;34m=\u001b[0m\u001b[0mreturn_estimator\u001b[0m\u001b[0;34m,\u001b[0m\u001b[0;34m\u001b[0m\u001b[0;34m\u001b[0m\u001b[0m\n\u001b[1;32m    247\u001b[0m             error_score=error_score)\n\u001b[0;32m--> 248\u001b[0;31m         for train, test in cv.split(X, y, groups))\n\u001b[0m\u001b[1;32m    249\u001b[0m \u001b[0;34m\u001b[0m\u001b[0m\n\u001b[1;32m    250\u001b[0m     \u001b[0mzipped_scores\u001b[0m \u001b[0;34m=\u001b[0m \u001b[0mlist\u001b[0m\u001b[0;34m(\u001b[0m\u001b[0mzip\u001b[0m\u001b[0;34m(\u001b[0m\u001b[0;34m*\u001b[0m\u001b[0mscores\u001b[0m\u001b[0;34m)\u001b[0m\u001b[0;34m)\u001b[0m\u001b[0;34m\u001b[0m\u001b[0;34m\u001b[0m\u001b[0m\n",
      "\u001b[0;32m~/cpuml-venv/lib/python3.7/site-packages/joblib/parallel.py\u001b[0m in \u001b[0;36m__call__\u001b[0;34m(self, iterable)\u001b[0m\n\u001b[1;32m    932\u001b[0m \u001b[0;34m\u001b[0m\u001b[0m\n\u001b[1;32m    933\u001b[0m             \u001b[0;32mwith\u001b[0m \u001b[0mself\u001b[0m\u001b[0;34m.\u001b[0m\u001b[0m_backend\u001b[0m\u001b[0;34m.\u001b[0m\u001b[0mretrieval_context\u001b[0m\u001b[0;34m(\u001b[0m\u001b[0;34m)\u001b[0m\u001b[0;34m:\u001b[0m\u001b[0;34m\u001b[0m\u001b[0;34m\u001b[0m\u001b[0m\n\u001b[0;32m--> 934\u001b[0;31m                 \u001b[0mself\u001b[0m\u001b[0;34m.\u001b[0m\u001b[0mretrieve\u001b[0m\u001b[0;34m(\u001b[0m\u001b[0;34m)\u001b[0m\u001b[0;34m\u001b[0m\u001b[0;34m\u001b[0m\u001b[0m\n\u001b[0m\u001b[1;32m    935\u001b[0m             \u001b[0;31m# Make sure that we get a last message telling us we are done\u001b[0m\u001b[0;34m\u001b[0m\u001b[0;34m\u001b[0m\u001b[0;34m\u001b[0m\u001b[0m\n\u001b[1;32m    936\u001b[0m             \u001b[0melapsed_time\u001b[0m \u001b[0;34m=\u001b[0m \u001b[0mtime\u001b[0m\u001b[0;34m.\u001b[0m\u001b[0mtime\u001b[0m\u001b[0;34m(\u001b[0m\u001b[0;34m)\u001b[0m \u001b[0;34m-\u001b[0m \u001b[0mself\u001b[0m\u001b[0;34m.\u001b[0m\u001b[0m_start_time\u001b[0m\u001b[0;34m\u001b[0m\u001b[0;34m\u001b[0m\u001b[0m\n",
      "\u001b[0;32m~/cpuml-venv/lib/python3.7/site-packages/joblib/parallel.py\u001b[0m in \u001b[0;36mretrieve\u001b[0;34m(self)\u001b[0m\n\u001b[1;32m    831\u001b[0m             \u001b[0;32mtry\u001b[0m\u001b[0;34m:\u001b[0m\u001b[0;34m\u001b[0m\u001b[0;34m\u001b[0m\u001b[0m\n\u001b[1;32m    832\u001b[0m                 \u001b[0;32mif\u001b[0m \u001b[0mgetattr\u001b[0m\u001b[0;34m(\u001b[0m\u001b[0mself\u001b[0m\u001b[0;34m.\u001b[0m\u001b[0m_backend\u001b[0m\u001b[0;34m,\u001b[0m \u001b[0;34m'supports_timeout'\u001b[0m\u001b[0;34m,\u001b[0m \u001b[0;32mFalse\u001b[0m\u001b[0;34m)\u001b[0m\u001b[0;34m:\u001b[0m\u001b[0;34m\u001b[0m\u001b[0;34m\u001b[0m\u001b[0m\n\u001b[0;32m--> 833\u001b[0;31m                     \u001b[0mself\u001b[0m\u001b[0;34m.\u001b[0m\u001b[0m_output\u001b[0m\u001b[0;34m.\u001b[0m\u001b[0mextend\u001b[0m\u001b[0;34m(\u001b[0m\u001b[0mjob\u001b[0m\u001b[0;34m.\u001b[0m\u001b[0mget\u001b[0m\u001b[0;34m(\u001b[0m\u001b[0mtimeout\u001b[0m\u001b[0;34m=\u001b[0m\u001b[0mself\u001b[0m\u001b[0;34m.\u001b[0m\u001b[0mtimeout\u001b[0m\u001b[0;34m)\u001b[0m\u001b[0;34m)\u001b[0m\u001b[0;34m\u001b[0m\u001b[0;34m\u001b[0m\u001b[0m\n\u001b[0m\u001b[1;32m    834\u001b[0m                 \u001b[0;32melse\u001b[0m\u001b[0;34m:\u001b[0m\u001b[0;34m\u001b[0m\u001b[0;34m\u001b[0m\u001b[0m\n\u001b[1;32m    835\u001b[0m                     \u001b[0mself\u001b[0m\u001b[0;34m.\u001b[0m\u001b[0m_output\u001b[0m\u001b[0;34m.\u001b[0m\u001b[0mextend\u001b[0m\u001b[0;34m(\u001b[0m\u001b[0mjob\u001b[0m\u001b[0;34m.\u001b[0m\u001b[0mget\u001b[0m\u001b[0;34m(\u001b[0m\u001b[0;34m)\u001b[0m\u001b[0;34m)\u001b[0m\u001b[0;34m\u001b[0m\u001b[0;34m\u001b[0m\u001b[0m\n",
      "\u001b[0;32m~/cpuml-venv/lib/python3.7/site-packages/joblib/_parallel_backends.py\u001b[0m in \u001b[0;36mwrap_future_result\u001b[0;34m(future, timeout)\u001b[0m\n\u001b[1;32m    519\u001b[0m         AsyncResults.get from multiprocessing.\"\"\"\n\u001b[1;32m    520\u001b[0m         \u001b[0;32mtry\u001b[0m\u001b[0;34m:\u001b[0m\u001b[0;34m\u001b[0m\u001b[0;34m\u001b[0m\u001b[0m\n\u001b[0;32m--> 521\u001b[0;31m             \u001b[0;32mreturn\u001b[0m \u001b[0mfuture\u001b[0m\u001b[0;34m.\u001b[0m\u001b[0mresult\u001b[0m\u001b[0;34m(\u001b[0m\u001b[0mtimeout\u001b[0m\u001b[0;34m=\u001b[0m\u001b[0mtimeout\u001b[0m\u001b[0;34m)\u001b[0m\u001b[0;34m\u001b[0m\u001b[0;34m\u001b[0m\u001b[0m\n\u001b[0m\u001b[1;32m    522\u001b[0m         \u001b[0;32mexcept\u001b[0m \u001b[0mLokyTimeoutError\u001b[0m\u001b[0;34m:\u001b[0m\u001b[0;34m\u001b[0m\u001b[0;34m\u001b[0m\u001b[0m\n\u001b[1;32m    523\u001b[0m             \u001b[0;32mraise\u001b[0m \u001b[0mTimeoutError\u001b[0m\u001b[0;34m(\u001b[0m\u001b[0;34m)\u001b[0m\u001b[0;34m\u001b[0m\u001b[0;34m\u001b[0m\u001b[0m\n",
      "\u001b[0;32m/usr/local/Cellar/python/3.7.7/Frameworks/Python.framework/Versions/3.7/lib/python3.7/concurrent/futures/_base.py\u001b[0m in \u001b[0;36mresult\u001b[0;34m(self, timeout)\u001b[0m\n\u001b[1;32m    428\u001b[0m                 \u001b[0;32mreturn\u001b[0m \u001b[0mself\u001b[0m\u001b[0;34m.\u001b[0m\u001b[0m__get_result\u001b[0m\u001b[0;34m(\u001b[0m\u001b[0;34m)\u001b[0m\u001b[0;34m\u001b[0m\u001b[0;34m\u001b[0m\u001b[0m\n\u001b[1;32m    429\u001b[0m \u001b[0;34m\u001b[0m\u001b[0m\n\u001b[0;32m--> 430\u001b[0;31m             \u001b[0mself\u001b[0m\u001b[0;34m.\u001b[0m\u001b[0m_condition\u001b[0m\u001b[0;34m.\u001b[0m\u001b[0mwait\u001b[0m\u001b[0;34m(\u001b[0m\u001b[0mtimeout\u001b[0m\u001b[0;34m)\u001b[0m\u001b[0;34m\u001b[0m\u001b[0;34m\u001b[0m\u001b[0m\n\u001b[0m\u001b[1;32m    431\u001b[0m \u001b[0;34m\u001b[0m\u001b[0m\n\u001b[1;32m    432\u001b[0m             \u001b[0;32mif\u001b[0m \u001b[0mself\u001b[0m\u001b[0;34m.\u001b[0m\u001b[0m_state\u001b[0m \u001b[0;32min\u001b[0m \u001b[0;34m[\u001b[0m\u001b[0mCANCELLED\u001b[0m\u001b[0;34m,\u001b[0m \u001b[0mCANCELLED_AND_NOTIFIED\u001b[0m\u001b[0;34m]\u001b[0m\u001b[0;34m:\u001b[0m\u001b[0;34m\u001b[0m\u001b[0;34m\u001b[0m\u001b[0m\n",
      "\u001b[0;32m/usr/local/Cellar/python/3.7.7/Frameworks/Python.framework/Versions/3.7/lib/python3.7/threading.py\u001b[0m in \u001b[0;36mwait\u001b[0;34m(self, timeout)\u001b[0m\n\u001b[1;32m    294\u001b[0m         \u001b[0;32mtry\u001b[0m\u001b[0;34m:\u001b[0m    \u001b[0;31m# restore state no matter what (e.g., KeyboardInterrupt)\u001b[0m\u001b[0;34m\u001b[0m\u001b[0;34m\u001b[0m\u001b[0m\n\u001b[1;32m    295\u001b[0m             \u001b[0;32mif\u001b[0m \u001b[0mtimeout\u001b[0m \u001b[0;32mis\u001b[0m \u001b[0;32mNone\u001b[0m\u001b[0;34m:\u001b[0m\u001b[0;34m\u001b[0m\u001b[0;34m\u001b[0m\u001b[0m\n\u001b[0;32m--> 296\u001b[0;31m                 \u001b[0mwaiter\u001b[0m\u001b[0;34m.\u001b[0m\u001b[0macquire\u001b[0m\u001b[0;34m(\u001b[0m\u001b[0;34m)\u001b[0m\u001b[0;34m\u001b[0m\u001b[0;34m\u001b[0m\u001b[0m\n\u001b[0m\u001b[1;32m    297\u001b[0m                 \u001b[0mgotit\u001b[0m \u001b[0;34m=\u001b[0m \u001b[0;32mTrue\u001b[0m\u001b[0;34m\u001b[0m\u001b[0;34m\u001b[0m\u001b[0m\n\u001b[1;32m    298\u001b[0m             \u001b[0;32melse\u001b[0m\u001b[0;34m:\u001b[0m\u001b[0;34m\u001b[0m\u001b[0;34m\u001b[0m\u001b[0m\n",
      "\u001b[0;31mKeyboardInterrupt\u001b[0m: "
     ]
    }
   ],
   "source": [
    "%%time\n",
    "\n",
    "GBR_bo.maximize()"
   ]
  },
  {
   "cell_type": "code",
   "execution_count": 26,
   "metadata": {},
   "outputs": [
    {
     "data": {
      "text/plain": [
       "{'target': -308.36028085451795,\n",
       " 'params': {'learning_rate': 0.061403125042222846,\n",
       "  'max_depth': 10.11678152909586,\n",
       "  'max_features': 0.5852357853509725,\n",
       "  'min_samples_split': 11.957661037092597,\n",
       "  'n_estimators': 116.77488967659396}}"
      ]
     },
     "execution_count": 26,
     "metadata": {},
     "output_type": "execute_result"
    }
   ],
   "source": [
    "GBR_bo.max"
   ]
  },
  {
   "cell_type": "code",
   "execution_count": 28,
   "metadata": {},
   "outputs": [
    {
     "name": "stdout",
     "output_type": "stream",
     "text": [
      "CPU times: user 205 ms, sys: 208 ms, total: 413 ms\n",
      "Wall time: 8min 45s\n"
     ]
    },
    {
     "data": {
      "text/plain": [
       "-308.4203781602086"
      ]
     },
     "execution_count": 28,
     "metadata": {},
     "output_type": "execute_result"
    }
   ],
   "source": [
    "%%time\n",
    "GBR_optimized = GradientBoostingRegressor(n_estimators=117, max_depth=10, learning_rate=0.0614, max_features=0.5852, min_samples_split=12)\n",
    "np.mean(cross_val_score(GBR_optimized, X, y, scoring='neg_mean_squared_error', cv=5, n_jobs=-1))"
   ]
  },
  {
   "cell_type": "code",
   "execution_count": 29,
   "metadata": {},
   "outputs": [
    {
     "data": {
      "text/plain": [
       "GradientBoostingRegressor(learning_rate=0.0614, max_depth=10,\n",
       "                          max_features=0.5852, min_samples_split=12,\n",
       "                          n_estimators=117)"
      ]
     },
     "execution_count": 29,
     "metadata": {},
     "output_type": "execute_result"
    }
   ],
   "source": [
    "model = GradientBoostingRegressor(n_estimators=117, \n",
    "                                  max_depth=10, \n",
    "                                  learning_rate=0.0614, \n",
    "                                  max_features=0.5852, min_samples_split=12)\n",
    "model.fit(X, y)"
   ]
  },
  {
   "cell_type": "markdown",
   "metadata": {},
   "source": [
    "### Save the fine turning Gradient Boosting Regressor Model"
   ]
  },
  {
   "cell_type": "code",
   "execution_count": 30,
   "metadata": {},
   "outputs": [],
   "source": [
    "import pickle\n",
    "\n",
    "filename = 'models/GBMmodel.pkl'\n",
    "with open(filename, 'wb') as file:\n",
    "    pickle.dump(model, file)"
   ]
  },
  {
   "cell_type": "code",
   "execution_count": null,
   "metadata": {},
   "outputs": [],
   "source": []
  }
 ],
 "metadata": {
  "kernelspec": {
   "display_name": "Python 3.7.6 64-bit ('cpuml-venv': venv)",
   "language": "python",
   "name": "python37664bitcpumlvenvvenvd94f9e51502149bb8cea6e47812f52f1"
  },
  "language_info": {
   "codemirror_mode": {
    "name": "ipython",
    "version": 3
   },
   "file_extension": ".py",
   "mimetype": "text/x-python",
   "name": "python",
   "nbconvert_exporter": "python",
   "pygments_lexer": "ipython3",
   "version": "3.7.7"
  }
 },
 "nbformat": 4,
 "nbformat_minor": 2
}
